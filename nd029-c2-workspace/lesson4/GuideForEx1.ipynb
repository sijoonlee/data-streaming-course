{
 "cells": [
  {
   "cell_type": "markdown",
   "metadata": {
    "editable": true,
    "ulab": {
     "buttons": {
      "ulab-button-341c8451": {
       "bashCommand": "/home/workspace/startup/startup.sh",
       "filesToOpen": [],
       "isPreviewButton": false,
       "runInBackground": false,
       "style": "primary",
       "text": "Start Kafka",
       "toggleOffText": "HIDE SOLUTION",
       "toggleOnText": "SHOW SOLUTION"
      }
     }
    }
   },
   "source": [
    "# Manually Save and Read With Redis and Kafka\n",
    "\n",
    "- Click the button to start Kafka: <button id=\"ulab-button-341c8451\" class=\"ulab-btn--primary\"></button>\n",
    "- Run the Redis CLI:\n",
    "     - From the terminal type: ```/data/redis/redis-stable/src/redis-cli -a notreally```\n",
    "     - From the terminal type: ```keys **```\n",
    "     - You will see the list of all the Redis tables\n",
    "     - From another terminal type ```/data/kafka/bin/kafka-console-consumer --bootstrap-server localhost:9092 --topic redis-server```\n",
    "     - From the first terminal type: ```zadd testkey 0 testvalue```\n",
    "     - Open the second terminal\n",
    "     - A JSON message will appear from the redis-server topic\n",
    "     - The key contains the base64 encoded name of the Redis table\n",
    "     - zSetEntries and zsetEntries contain the changes made to the Redis sorted set. \n",
    "- To decode the name of the Redis table, open a third terminal, and type: ```echo \"[encoded table]\" | base64 -d```, for example ```echo \"dGVzdGtleQ==\" | base64 -d```\n",
    "- To decode the changes made, from the zSetEntries table, copy the \"element\" value, then from the third terminal type: ```echo \"[encoded value]\" | base64 -d```, for example ```echo \"dGVzdGtleQ==\" | base64 -d```\n",
    "\n",
    "    "
   ]
  }
 ],
 "metadata": {
  "kernelspec": {
   "display_name": "Python 3",
   "language": "python",
   "name": "python3"
  },
  "language_info": {
   "codemirror_mode": {
    "name": "ipython",
    "version": 3
   },
   "file_extension": ".py",
   "mimetype": "text/x-python",
   "name": "python",
   "nbconvert_exporter": "python",
   "pygments_lexer": "ipython3",
   "version": "3.7.3"
  }
 },
 "nbformat": 4,
 "nbformat_minor": 4
}
