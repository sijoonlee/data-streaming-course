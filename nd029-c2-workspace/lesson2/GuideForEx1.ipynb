{
 "cells": [
  {
   "cell_type": "markdown",
   "metadata": {
    "editable": true
   },
   "source": [
    "# Start a Spark Cluster\n",
    "\n",
    "- From the terminal: ```cd /home/workspace/spark/sbin```\n",
    "\n",
    "- Type: ```./start-master.sh```\n",
    "\n",
    "- Watch for a message similar to this: ```Logging to /home/workspace/spark/logs/spark--org.apache.spark.deploy.master.Master-1-5a00814ba363.out```\n",
    "    \n",
    "- Copy the path to your log, for example: ```/home/workspace/sparklogs/logs/spark--org.apache.spark.deploy.master.Master-1-5a00814ba363.out```\n",
    "\n",
    "- Type: ```cat [path to log]```\n",
    "\n",
    "- Look for a message like this: ```Starting Spark master at spark://5a00814ba363:7077```\n",
    "    \n",
    "- Copy the Spark URI, for example: ```spark://5a00814ba363:7077```\n",
    "\n",
    "- Type: ```./start-slave.sh [Spark URI]```\n",
    "    \n",
    "# Create a hello world Spark application and submit it to the cluster\n",
    "\n",
    "- Complete the hellospark.py application (be sure to click File Save when done)\n",
    "\n",
    "- From the terminal type: ```cd /home/workspace/spark/bin```\n",
    "\n",
    "- Type: ```./spark-submit /home/workspace/hellospark.py```\n",
    "\n",
    "- Watch for the output at the end for the counts\n",
    "    "
   ]
  }
 ],
 "metadata": {
  "kernelspec": {
   "display_name": "Python 3",
   "language": "python",
   "name": "python3"
  },
  "language_info": {
   "codemirror_mode": {
    "name": "ipython",
    "version": 3
   },
   "file_extension": ".py",
   "mimetype": "text/x-python",
   "name": "python",
   "nbconvert_exporter": "python",
   "pygments_lexer": "ipython3",
   "version": "3.7.3"
  }
 },
 "nbformat": 4,
 "nbformat_minor": 4
}
